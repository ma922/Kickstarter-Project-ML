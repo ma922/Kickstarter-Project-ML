{
 "cells": [
  {
   "cell_type": "markdown",
   "metadata": {},
   "source": [
    "## Part 1. Explore The Data"
   ]
  },
  {
   "cell_type": "markdown",
   "metadata": {},
   "source": [
    "### 1 : Import necessary modules and functions"
   ]
  },
  {
   "cell_type": "code",
   "execution_count": 1,
   "metadata": {},
   "outputs": [
    {
     "name": "stderr",
     "output_type": "stream",
     "text": [
      "[nltk_data] Downloading package punkt to /home/fries/nltk_data...\n",
      "[nltk_data]   Package punkt is already up-to-date!\n",
      "[nltk_data] Downloading package averaged_perceptron_tagger to\n",
      "[nltk_data]     /home/fries/nltk_data...\n",
      "[nltk_data]   Package averaged_perceptron_tagger is already up-to-\n",
      "[nltk_data]       date!\n",
      "[nltk_data] Downloading package stopwords to /home/fries/nltk_data...\n",
      "[nltk_data]   Package stopwords is already up-to-date!\n",
      "[nltk_data] Downloading package wordnet to /home/fries/nltk_data...\n",
      "[nltk_data]   Package wordnet is already up-to-date!\n"
     ]
    },
    {
     "data": {
      "text/plain": [
       "True"
      ]
     },
     "execution_count": 1,
     "metadata": {},
     "output_type": "execute_result"
    }
   ],
   "source": [
    "import pandas as pd\n",
    "import seaborn as sns\n",
    "import numpy as np\n",
    "\n",
    "import matplotlib.pyplot as plt\n",
    "%matplotlib inline\n",
    "\n",
    "from matplotlib.pylab import rcParams\n",
    "rcParams['figure.figsize'] = 16, 8\n",
    "\n",
    "from scipy.stats import norm\n",
    "from scipy import stats\n",
    "\n",
    "from sklearn.preprocessing import StandardScaler\n",
    "from sklearn.linear_model import LinearRegression\n",
    "from sklearn.neural_network import MLPClassifier\n",
    "from sklearn.model_selection import train_test_split\n",
    "from sklearn.model_selection import cross_val_score\n",
    "from sklearn.model_selection import GridSearchCV\n",
    "from sklearn.feature_extraction.text import TfidfVectorizer\n",
    "\n",
    "import warnings\n",
    "warnings.filterwarnings('ignore')\n",
    "\n",
    "import nltk\n",
    "from nltk import word_tokenize, pos_tag\n",
    "from nltk.corpus import wordnet\n",
    "from nltk.stem import WordNetLemmatizer\n",
    "from nltk.corpus import stopwords\n",
    "from nltk.stem.lancaster import LancasterStemmer\n",
    "nltk.download('punkt')\n",
    "nltk.download('averaged_perceptron_tagger')\n",
    "nltk.download('stopwords')\n",
    "nltk.download('wordnet')"
   ]
  },
  {
   "cell_type": "markdown",
   "metadata": {},
   "source": [
    "### 2 : Import data and find/fix the missing data"
   ]
  },
  {
   "cell_type": "code",
   "execution_count": 2,
   "metadata": {},
   "outputs": [],
   "source": [
    "ks_train_df = pd.read_csv('KS_train_data.csv', delimiter=',')"
   ]
  },
  {
   "cell_type": "markdown",
   "metadata": {},
   "source": [
    "- Set display options and display data frame"
   ]
  },
  {
   "cell_type": "code",
   "execution_count": 3,
   "metadata": {},
   "outputs": [
    {
     "data": {
      "text/html": [
       "<div>\n",
       "<style scoped>\n",
       "    .dataframe tbody tr th:only-of-type {\n",
       "        vertical-align: middle;\n",
       "    }\n",
       "\n",
       "    .dataframe tbody tr th {\n",
       "        vertical-align: top;\n",
       "    }\n",
       "\n",
       "    .dataframe thead th {\n",
       "        text-align: right;\n",
       "    }\n",
       "</style>\n",
       "<table border=\"1\" class=\"dataframe\">\n",
       "  <thead>\n",
       "    <tr style=\"text-align: right;\">\n",
       "      <th></th>\n",
       "      <th>project_id</th>\n",
       "      <th>backers_count</th>\n",
       "      <th>blurb</th>\n",
       "      <th>category</th>\n",
       "      <th>converted_pledged_amount</th>\n",
       "      <th>country</th>\n",
       "      <th>created_at</th>\n",
       "      <th>currency</th>\n",
       "      <th>deadline</th>\n",
       "      <th>fx_rate</th>\n",
       "      <th>goal</th>\n",
       "      <th>launched_at</th>\n",
       "      <th>name</th>\n",
       "      <th>pledged</th>\n",
       "      <th>staff_pick</th>\n",
       "      <th>usd_pledged</th>\n",
       "      <th>location</th>\n",
       "      <th>funded</th>\n",
       "      <th>subcategory</th>\n",
       "      <th>project_url</th>\n",
       "      <th>reward_url</th>\n",
       "    </tr>\n",
       "  </thead>\n",
       "  <tbody>\n",
       "    <tr>\n",
       "      <th>0</th>\n",
       "      <td>KS_000000</td>\n",
       "      <td>80</td>\n",
       "      <td>I will be an artist-in-residence at Elsewhere Studios this summer, where I will stretch my wings and see where I land!</td>\n",
       "      <td>art</td>\n",
       "      <td>3596</td>\n",
       "      <td>US</td>\n",
       "      <td>1325980505</td>\n",
       "      <td>USD</td>\n",
       "      <td>1334866560</td>\n",
       "      <td>1.0</td>\n",
       "      <td>2800.0</td>\n",
       "      <td>1332969260</td>\n",
       "      <td>Elsewhere Studios artist-in-residency program!</td>\n",
       "      <td>3596.0</td>\n",
       "      <td>False</td>\n",
       "      <td>3596.0</td>\n",
       "      <td>Paonia, CO</td>\n",
       "      <td>True</td>\n",
       "      <td>mixed media</td>\n",
       "      <td>https://www.kickstarter.com/projects/hilaryemersonlay/elsewhere-studios-artist-in-residency-program</td>\n",
       "      <td>https://www.kickstarter.com/projects/hilaryemersonlay/elsewhere-studios-artist-in-residency-program/rewards</td>\n",
       "    </tr>\n",
       "    <tr>\n",
       "      <th>1</th>\n",
       "      <td>KS_000001</td>\n",
       "      <td>82</td>\n",
       "      <td>1000 Artists is a public art-making installation on the Washington Mall which will occur on January 21 and 22nd 2013.</td>\n",
       "      <td>art</td>\n",
       "      <td>4586</td>\n",
       "      <td>US</td>\n",
       "      <td>1330926084</td>\n",
       "      <td>USD</td>\n",
       "      <td>1336440145</td>\n",
       "      <td>1.0</td>\n",
       "      <td>4500.0</td>\n",
       "      <td>1332984145</td>\n",
       "      <td>1000 Artists: Presidential Inauguration 2013</td>\n",
       "      <td>4586.0</td>\n",
       "      <td>False</td>\n",
       "      <td>4586.0</td>\n",
       "      <td>Washington, DC</td>\n",
       "      <td>True</td>\n",
       "      <td>public art</td>\n",
       "      <td>https://www.kickstarter.com/projects/17146650/1000-artists-presidential-inauguration-2013</td>\n",
       "      <td>https://www.kickstarter.com/projects/17146650/1000-artists-presidential-inauguration-2013/rewards</td>\n",
       "    </tr>\n",
       "    <tr>\n",
       "      <th>2</th>\n",
       "      <td>KS_000002</td>\n",
       "      <td>21</td>\n",
       "      <td>The Sequel to ‘My Favorite Machine”, \"MyPhoneHenge\" celebrates Community across Virtual and Real Worlds.</td>\n",
       "      <td>art</td>\n",
       "      <td>5217</td>\n",
       "      <td>US</td>\n",
       "      <td>1332382894</td>\n",
       "      <td>USD</td>\n",
       "      <td>1338175739</td>\n",
       "      <td>1.0</td>\n",
       "      <td>5000.0</td>\n",
       "      <td>1332991739</td>\n",
       "      <td>MyPhoneHenge</td>\n",
       "      <td>5217.0</td>\n",
       "      <td>False</td>\n",
       "      <td>5217.0</td>\n",
       "      <td>Frisco, TX</td>\n",
       "      <td>True</td>\n",
       "      <td>sculpture</td>\n",
       "      <td>https://www.kickstarter.com/projects/belveal/myphonehenge</td>\n",
       "      <td>https://www.kickstarter.com/projects/belveal/myphonehenge/rewards</td>\n",
       "    </tr>\n",
       "    <tr>\n",
       "      <th>3</th>\n",
       "      <td>KS_000003</td>\n",
       "      <td>37</td>\n",
       "      <td>A film exploring the role and value of art education today through the history of the seminal California Institute of the Arts.</td>\n",
       "      <td>art</td>\n",
       "      <td>7160</td>\n",
       "      <td>GB</td>\n",
       "      <td>1332342451</td>\n",
       "      <td>USD</td>\n",
       "      <td>1334806096</td>\n",
       "      <td>1.0</td>\n",
       "      <td>6500.0</td>\n",
       "      <td>1332991696</td>\n",
       "      <td>Walk-Through</td>\n",
       "      <td>7160.0</td>\n",
       "      <td>False</td>\n",
       "      <td>7160.0</td>\n",
       "      <td>Glasgow, UK</td>\n",
       "      <td>True</td>\n",
       "      <td>art</td>\n",
       "      <td>https://www.kickstarter.com/projects/1078130915/walk-through</td>\n",
       "      <td>https://www.kickstarter.com/projects/1078130915/walk-through/rewards</td>\n",
       "    </tr>\n",
       "    <tr>\n",
       "      <th>4</th>\n",
       "      <td>KS_000004</td>\n",
       "      <td>153</td>\n",
       "      <td>We need to build a kitchen for Habitable Spaces,  a self sustaining farm and artist residency on a ranch in Texas.</td>\n",
       "      <td>art</td>\n",
       "      <td>15445</td>\n",
       "      <td>US</td>\n",
       "      <td>1328562617</td>\n",
       "      <td>USD</td>\n",
       "      <td>1335584240</td>\n",
       "      <td>1.0</td>\n",
       "      <td>15000.0</td>\n",
       "      <td>1332992240</td>\n",
       "      <td>A kitchen for Habitable Spaces</td>\n",
       "      <td>15445.0</td>\n",
       "      <td>False</td>\n",
       "      <td>15445.0</td>\n",
       "      <td>Kingsbury, TX</td>\n",
       "      <td>True</td>\n",
       "      <td>public art</td>\n",
       "      <td>https://www.kickstarter.com/projects/1044092769/a-kitchen-for-habitable-spaces</td>\n",
       "      <td>https://www.kickstarter.com/projects/1044092769/a-kitchen-for-habitable-spaces/rewards</td>\n",
       "    </tr>\n",
       "  </tbody>\n",
       "</table>\n",
       "</div>"
      ],
      "text/plain": [
       "  project_id  backers_count  \\\n",
       "0  KS_000000             80   \n",
       "1  KS_000001             82   \n",
       "2  KS_000002             21   \n",
       "3  KS_000003             37   \n",
       "4  KS_000004            153   \n",
       "\n",
       "                                                                                                                             blurb  \\\n",
       "0           I will be an artist-in-residence at Elsewhere Studios this summer, where I will stretch my wings and see where I land!   \n",
       "1            1000 Artists is a public art-making installation on the Washington Mall which will occur on January 21 and 22nd 2013.   \n",
       "2                         The Sequel to ‘My Favorite Machine”, \"MyPhoneHenge\" celebrates Community across Virtual and Real Worlds.   \n",
       "3  A film exploring the role and value of art education today through the history of the seminal California Institute of the Arts.   \n",
       "4               We need to build a kitchen for Habitable Spaces,  a self sustaining farm and artist residency on a ranch in Texas.   \n",
       "\n",
       "  category  converted_pledged_amount country  created_at currency    deadline  \\\n",
       "0      art                      3596      US  1325980505      USD  1334866560   \n",
       "1      art                      4586      US  1330926084      USD  1336440145   \n",
       "2      art                      5217      US  1332382894      USD  1338175739   \n",
       "3      art                      7160      GB  1332342451      USD  1334806096   \n",
       "4      art                     15445      US  1328562617      USD  1335584240   \n",
       "\n",
       "   fx_rate     goal  launched_at  \\\n",
       "0      1.0   2800.0   1332969260   \n",
       "1      1.0   4500.0   1332984145   \n",
       "2      1.0   5000.0   1332991739   \n",
       "3      1.0   6500.0   1332991696   \n",
       "4      1.0  15000.0   1332992240   \n",
       "\n",
       "                                             name  pledged  staff_pick  \\\n",
       "0  Elsewhere Studios artist-in-residency program!   3596.0       False   \n",
       "1    1000 Artists: Presidential Inauguration 2013   4586.0       False   \n",
       "2                                    MyPhoneHenge   5217.0       False   \n",
       "3                                    Walk-Through   7160.0       False   \n",
       "4                  A kitchen for Habitable Spaces  15445.0       False   \n",
       "\n",
       "   usd_pledged        location  funded  subcategory  \\\n",
       "0       3596.0      Paonia, CO    True  mixed media   \n",
       "1       4586.0  Washington, DC    True   public art   \n",
       "2       5217.0      Frisco, TX    True    sculpture   \n",
       "3       7160.0     Glasgow, UK    True          art   \n",
       "4      15445.0   Kingsbury, TX    True   public art   \n",
       "\n",
       "                                                                                           project_url  \\\n",
       "0  https://www.kickstarter.com/projects/hilaryemersonlay/elsewhere-studios-artist-in-residency-program   \n",
       "1            https://www.kickstarter.com/projects/17146650/1000-artists-presidential-inauguration-2013   \n",
       "2                                            https://www.kickstarter.com/projects/belveal/myphonehenge   \n",
       "3                                         https://www.kickstarter.com/projects/1078130915/walk-through   \n",
       "4                       https://www.kickstarter.com/projects/1044092769/a-kitchen-for-habitable-spaces   \n",
       "\n",
       "                                                                                                    reward_url  \n",
       "0  https://www.kickstarter.com/projects/hilaryemersonlay/elsewhere-studios-artist-in-residency-program/rewards  \n",
       "1            https://www.kickstarter.com/projects/17146650/1000-artists-presidential-inauguration-2013/rewards  \n",
       "2                                            https://www.kickstarter.com/projects/belveal/myphonehenge/rewards  \n",
       "3                                         https://www.kickstarter.com/projects/1078130915/walk-through/rewards  \n",
       "4                       https://www.kickstarter.com/projects/1044092769/a-kitchen-for-habitable-spaces/rewards  "
      ]
     },
     "execution_count": 3,
     "metadata": {},
     "output_type": "execute_result"
    }
   ],
   "source": [
    "# display full column width\n",
    "pd.set_option('display.max_colwidth', 1000)\n",
    "\n",
    "# display all columns\n",
    "pd.set_option('display.max_columns', 500)\n",
    "\n",
    "# display all rows set None # default value 50\n",
    "pd.set_option('display.max_rows', 50)\n",
    "\n",
    "ks_train_df.head()"
   ]
  },
  {
   "cell_type": "code",
   "execution_count": 4,
   "metadata": {},
   "outputs": [
    {
     "data": {
      "text/plain": [
       "Index(['project_id', 'backers_count', 'blurb', 'category',\n",
       "       'converted_pledged_amount', 'country', 'created_at', 'currency',\n",
       "       'deadline', 'fx_rate', 'goal', 'launched_at', 'name', 'pledged',\n",
       "       'staff_pick', 'usd_pledged', 'location', 'funded', 'subcategory',\n",
       "       'project_url', 'reward_url'],\n",
       "      dtype='object')"
      ]
     },
     "execution_count": 4,
     "metadata": {},
     "output_type": "execute_result"
    }
   ],
   "source": [
    "# print column headers\n",
    "ks_train_df.columns"
   ]
  },
  {
   "cell_type": "markdown",
   "metadata": {},
   "source": [
    "- Some, but not all column names are self-explanatory. For the sake of clarity, we provide each feature's description below:"
   ]
  },
  {
   "cell_type": "markdown",
   "metadata": {},
   "source": [
    "    project_id: number of supporters\n",
    "    backers_count:\n",
    "    blurb: intro\n",
    "    category: type of the project\n",
    "    converted_pledged_amount: money got\n",
    "    country:\n",
    "    created_at:  \n",
    "    currency:\n",
    "    deadline: \n",
    "    fx_rate: foreing exchange rate\n",
    "    goal:\n",
    "    launched_at: \n",
    "    name:\n",
    "    pledged: money got\n",
    "    staff_pick: give them a boost by helping them get exposure\n",
    "    usd_pledged: money got(usd)\n",
    "    location:\n",
    "    funded:\n",
    "    subcategory:\n",
    "    project_url: \n",
    "    reward_url:"
   ]
  },
  {
   "cell_type": "code",
   "execution_count": 5,
   "metadata": {},
   "outputs": [
    {
     "data": {
      "text/plain": [
       "project_id                  0\n",
       "backers_count               0\n",
       "blurb                       2\n",
       "category                    0\n",
       "converted_pledged_amount    0\n",
       "country                     3\n",
       "created_at                  0\n",
       "currency                    0\n",
       "deadline                    0\n",
       "fx_rate                     0\n",
       "goal                        0\n",
       "launched_at                 0\n",
       "name                        1\n",
       "pledged                     0\n",
       "staff_pick                  0\n",
       "usd_pledged                 0\n",
       "location                    0\n",
       "funded                      0\n",
       "subcategory                 0\n",
       "project_url                 0\n",
       "reward_url                  0\n",
       "dtype: int64"
      ]
     },
     "execution_count": 5,
     "metadata": {},
     "output_type": "execute_result"
    }
   ],
   "source": [
    "# missing data\n",
    "ks_train_df.isnull().sum()"
   ]
  },
  {
   "cell_type": "markdown",
   "metadata": {},
   "source": [
    "- In total 5 rows with 6 cells have missing data. "
   ]
  },
  {
   "cell_type": "markdown",
   "metadata": {},
   "source": [
    "- Only 5 rows have missing data which is not worth further investigation compared to total 100 000 rows so we drop the rows with missing data."
   ]
  },
  {
   "cell_type": "code",
   "execution_count": 6,
   "metadata": {},
   "outputs": [
    {
     "data": {
      "text/plain": [
       "99995"
      ]
     },
     "execution_count": 6,
     "metadata": {},
     "output_type": "execute_result"
    }
   ],
   "source": [
    "ks_train_df.drop(ks_train_df[ks_train_df['blurb'].isnull()].index, inplace=True)\n",
    "ks_train_df.drop(ks_train_df[ks_train_df['country'].isnull()].index, inplace=True)\n",
    "ks_train_df.drop(ks_train_df[ks_train_df['name'].isnull()].index, inplace=True)\n",
    "\n",
    "ks_train_df = ks_train_df.set_index('category',drop=False, append=False, inplace=False, verify_integrity=False)\n",
    "ks_train_df = ks_train_df.reset_index(drop=True)\n",
    "\n",
    "# check only 5 rows removed\n",
    "len(ks_train_df)"
   ]
  },
  {
   "cell_type": "markdown",
   "metadata": {},
   "source": [
    "### 3 : Show the plots"
   ]
  },
  {
   "cell_type": "markdown",
   "metadata": {},
   "source": [
    "- we can see that 'category' is definetly related to the 'funded', it will be clear after we transformed the 'category' feature."
   ]
  },
  {
   "cell_type": "code",
   "execution_count": 7,
   "metadata": {
    "scrolled": true
   },
   "outputs": [
    {
     "data": {
      "text/plain": [
       "<AxesSubplot:xlabel='category', ylabel='Count'>"
      ]
     },
     "execution_count": 7,
     "metadata": {},
     "output_type": "execute_result"
    },
    {
     "data": {
      "image/png": "[encoded data removed]",
      "text/plain": [
       "<Figure size 1152x576 with 1 Axes>"
      ]
     },
     "metadata": {},
     "output_type": "display_data"
    }
   ],
   "source": [
    "sns.set()\n",
    "# number of projects in categories\n",
    "sns.histplot(ks_train_df.category)\n",
    "\n",
    "# number of successful projects in categories\n",
    "sns.histplot(ks_train_df.loc[ks_train_df['funded'] == 1,'category'])"
   ]
  },
  {
   "cell_type": "markdown",
   "metadata": {},
   "source": [
    "- make all goals in same currency"
   ]
  },
  {
   "cell_type": "code",
   "execution_count": 8,
   "metadata": {},
   "outputs": [],
   "source": [
    "ks_train_df['usd_goal'] = ks_train_df.goal * ks_train_df.fx_rate"
   ]
  },
  {
   "cell_type": "markdown",
   "metadata": {},
   "source": [
    "- show the project goals are related to the 'funded'. \n",
    "- We can see that correlation is weak between 'funded' and 'usd_goal', so we might need transform the 'usd_goal'"
   ]
  },
  {
   "cell_type": "code",
   "execution_count": 9,
   "metadata": {},
   "outputs": [
    {
     "data": {
      "text/plain": [
       "<AxesSubplot:>"
      ]
     },
     "execution_count": 9,
     "metadata": {},
     "output_type": "execute_result"
    },
    {
     "data": {
      "image/png": "[encoded data removed]",
      "text/plain": [
       "<Figure size 1152x576 with 2 Axes>"
      ]
     },
     "metadata": {},
     "output_type": "display_data"
    }
   ],
   "source": [
    "cols=['funded','usd_goal']\n",
    "corrmat=ks_train_df[cols].corr(method='pearson')\n",
    "sns.heatmap(corrmat,square=True, annot=True)"
   ]
  },
  {
   "cell_type": "markdown",
   "metadata": {},
   "source": [
    "- we can see that 'staff_pick' is related to the 'funded'"
   ]
  },
  {
   "cell_type": "code",
   "execution_count": 10,
   "metadata": {},
   "outputs": [
    {
     "data": {
      "text/plain": [
       "<AxesSubplot:>"
      ]
     },
     "execution_count": 10,
     "metadata": {},
     "output_type": "execute_result"
    },
    {
     "data": {
      "image/png": "[encoded data removed]",
      "text/plain": [
       "<Figure size 1152x576 with 2 Axes>"
      ]
     },
     "metadata": {},
     "output_type": "display_data"
    }
   ],
   "source": [
    "cols=['funded','staff_pick']\n",
    "corrmat=ks_train_df[cols].corr(method='pearson')\n",
    "sns.heatmap(corrmat,square=True, annot=True)"
   ]
  },
  {
   "cell_type": "markdown",
   "metadata": {},
   "source": [
    "### 4 : Detect and remove outliers"
   ]
  },
  {
   "cell_type": "markdown",
   "metadata": {},
   "source": [
    "- first we do 'usd_goal', from the box plot, we can see that there are some outliers."
   ]
  },
  {
   "cell_type": "code",
   "execution_count": 11,
   "metadata": {},
   "outputs": [
    {
     "data": {
      "text/plain": [
       "<AxesSubplot:xlabel='funded', ylabel='usd_goal'>"
      ]
     },
     "execution_count": 11,
     "metadata": {},
     "output_type": "execute_result"
    },
    {
     "data": {
      "image/png": "[encoded data removed]",
      "text/plain": [
       "<Figure size 1152x576 with 1 Axes>"
      ]
     },
     "metadata": {},
     "output_type": "display_data"
    }
   ],
   "source": [
    "sns.boxplot(x=ks_train_df.funded,y=ks_train_df.usd_goal)"
   ]
  },
  {
   "cell_type": "markdown",
   "metadata": {},
   "source": [
    "- Remove the outliers"
   ]
  },
  {
   "cell_type": "code",
   "execution_count": 12,
   "metadata": {},
   "outputs": [
    {
     "data": {
      "text/plain": [
       "88003"
      ]
     },
     "execution_count": 12,
     "metadata": {},
     "output_type": "execute_result"
    }
   ],
   "source": [
    "# function to remove outliers\n",
    "def remove_outlier(df_in, col_name):\n",
    "    q1 = df_in[col_name].quantile(0.25)\n",
    "    q3 = df_in[col_name].quantile(0.75)\n",
    "    iqr = q3-q1 #Interquartile range\n",
    "    fence_low  = q1-1.5*iqr\n",
    "    fence_high = q3+1.5*iqr\n",
    "    df_out = df_in.loc[(df_in[col_name] > fence_low) & (df_in[col_name] < fence_high)]\n",
    "    return df_out\n",
    "#Detect outliers in 'usd_goals'\n",
    "ks_train_df = remove_outlier(ks_train_df,'usd_goal')\n",
    "ks_train_df = ks_train_df.set_index('category',drop=False, append=False, inplace=False, verify_integrity=False)\n",
    "ks_train_df = ks_train_df.reset_index(drop=True)\n",
    "\n",
    "len(ks_train_df)"
   ]
  },
  {
   "cell_type": "markdown",
   "metadata": {},
   "source": [
    "## Part 2.Transformation"
   ]
  },
  {
   "cell_type": "markdown",
   "metadata": {},
   "source": [
    "### 1. transform the 'usd_goal'"
   ]
  },
  {
   "cell_type": "code",
   "execution_count": 13,
   "metadata": {},
   "outputs": [
    {
     "data": {
      "text/plain": [
       "<seaborn.axisgrid.FacetGrid at 0x7f7c0c4611d0>"
      ]
     },
     "execution_count": 13,
     "metadata": {},
     "output_type": "execute_result"
    },
    {
     "data": {
      "image/png": "[encoded data removed]",
      "text/plain": [
       "<Figure size 360x360 with 1 Axes>"
      ]
     },
     "metadata": {},
     "output_type": "display_data"
    }
   ],
   "source": [
    "# distribution of usd_goal\n",
    "sns.displot(ks_train_df['usd_goal'])"
   ]
  },
  {
   "cell_type": "code",
   "execution_count": 14,
   "metadata": {},
   "outputs": [
    {
     "data": {
      "text/plain": [
       "((array([-4.31789062, -4.11788118, -4.00904973, ...,  4.00904973,\n",
       "          4.11788118,  4.31789062]),\n",
       "  array([1.00000000e-02, 7.93185580e-01, 7.93185580e-01, ...,\n",
       "         2.76746866e+04, 2.77000000e+04, 2.77420105e+04])),\n",
       " (5578.286577400083, 5907.404851334349, 0.9023439018356305))"
      ]
     },
     "execution_count": 14,
     "metadata": {},
     "output_type": "execute_result"
    },
    {
     "data": {
      "image/png": "[encoded data removed]",
      "text/plain": [
       "<Figure size 1152x576 with 1 Axes>"
      ]
     },
     "metadata": {},
     "output_type": "display_data"
    }
   ],
   "source": [
    "# probility of the usd_goal\n",
    "stats.probplot(ks_train_df['usd_goal'], plot=plt)"
   ]
  },
  {
   "cell_type": "code",
   "execution_count": 15,
   "metadata": {},
   "outputs": [],
   "source": [
    "# The plot is skewed so we use scaler tranform\n",
    "scaler = StandardScaler()\n",
    "ks_train_df['usd_goal_strd'] = scaler.fit_transform(ks_train_df[['usd_goal']])"
   ]
  },
  {
   "cell_type": "code",
   "execution_count": 16,
   "metadata": {},
   "outputs": [
    {
     "data": {
      "text/plain": [
       "((array([-4.31789062, -4.11788118, -4.00904973, ...,  4.00904973,\n",
       "          4.11788118,  4.31789062]),\n",
       "  array([-0.9556276 , -0.95550091, -0.95550091, ...,  3.5212502 ,\n",
       "          3.5253451 ,  3.53214105])),\n",
       " (0.902388407695381, 4.743712327451821e-16, 0.9023439018356308))"
      ]
     },
     "execution_count": 16,
     "metadata": {},
     "output_type": "execute_result"
    },
    {
     "data": {
      "image/png": "[encoded data removed]",
      "text/plain": [
       "<Figure size 1152x576 with 1 Axes>"
      ]
     },
     "metadata": {},
     "output_type": "display_data"
    }
   ],
   "source": [
    "stats.probplot(ks_train_df['usd_goal_strd'], plot=plt)"
   ]
  },
  {
   "cell_type": "markdown",
   "metadata": {},
   "source": [
    "- With Scaler-transformation, it looks more like a normal distribution.\n",
    "- and the correlation with 'founded' is much stronger"
   ]
  },
  {
   "cell_type": "markdown",
   "metadata": {},
   "source": [
    "- We can still see that project having a small goal has positively affected many campaigns."
   ]
  },
  {
   "cell_type": "code",
   "execution_count": 17,
   "metadata": {},
   "outputs": [
    {
     "data": {
      "text/plain": [
       "<AxesSubplot:>"
      ]
     },
     "execution_count": 17,
     "metadata": {},
     "output_type": "execute_result"
    },
    {
     "data": {
      "image/png": "[encoded data removed]",
      "text/plain": [
       "<Figure size 1152x576 with 2 Axes>"
      ]
     },
     "metadata": {},
     "output_type": "display_data"
    }
   ],
   "source": [
    "cols=['funded','usd_goal_strd']\n",
    "corrmat=ks_train_df[cols].corr(method='pearson')\n",
    "sns.heatmap(corrmat,square=True, annot=True)"
   ]
  },
  {
   "cell_type": "markdown",
   "metadata": {},
   "source": [
    "### 2. transform 'category'"
   ]
  },
  {
   "cell_type": "markdown",
   "metadata": {},
   "source": [
    "- subcategory transform"
   ]
  },
  {
   "cell_type": "code",
   "execution_count": 18,
   "metadata": {},
   "outputs": [],
   "source": [
    "subcategory_transformed_train = pd.get_dummies(ks_train_df.subcategory)\n",
    "ks_train_df = pd.concat([ks_train_df, subcategory_transformed_train], axis=1)"
   ]
  },
  {
   "cell_type": "markdown",
   "metadata": {},
   "source": [
    "- category transform"
   ]
  },
  {
   "cell_type": "code",
   "execution_count": 19,
   "metadata": {},
   "outputs": [],
   "source": [
    "category_transformed_train = pd.get_dummies(ks_train_df.category)\n",
    "\n",
    "for category in category_transformed_train.columns:\n",
    "    for subcategory in subcategory_transformed_train.columns:\n",
    "        if(subcategory == category):\n",
    "            category_transformed_train.drop(category, axis=1, inplace=True)\n",
    "\n",
    "ks_train_df = pd.concat([ks_train_df, category_transformed_train], axis=1)\n"
   ]
  },
  {
   "cell_type": "markdown",
   "metadata": {},
   "source": [
    "### 3. transfer currency column using one hot encoding"
   ]
  },
  {
   "cell_type": "code",
   "execution_count": 20,
   "metadata": {},
   "outputs": [],
   "source": [
    "currency_transformed_train = pd.get_dummies(ks_train_df.currency)\n",
    "ks_train_df = pd.concat([ks_train_df, currency_transformed_train], axis=1)"
   ]
  },
  {
   "cell_type": "markdown",
   "metadata": {},
   "source": [
    "### 4. name transform"
   ]
  },
  {
   "cell_type": "code",
   "execution_count": 21,
   "metadata": {},
   "outputs": [],
   "source": [
    "from sklearn.feature_extraction import text\n",
    "my_stop_words = text.ENGLISH_STOP_WORDS.union([\"book\"])\n",
    "v = TfidfVectorizer(ngram_range = (1,1), stop_words=my_stop_words, max_features = 30)\n",
    "name_tfid = v.fit_transform(ks_train_df['name'])\n",
    "name_df_train = pd.DataFrame(name_tfid.toarray(), columns=v.get_feature_names())\n",
    "\n",
    "for column in ks_train_df:\n",
    "    for name in name_df_train:\n",
    "        if(column == name):\n",
    "            name_df_train.drop(name, axis=1, inplace=True)\n",
    "\n",
    "ks_train_df = pd.concat([ks_train_df, name_df_train], axis=1)"
   ]
  },
  {
   "cell_type": "markdown",
   "metadata": {},
   "source": [
    "### 5. transform blurb"
   ]
  },
  {
   "cell_type": "code",
   "execution_count": 22,
   "metadata": {},
   "outputs": [],
   "source": [
    "from sklearn.feature_extraction import text\n",
    "my_stop_words = text.ENGLISH_STOP_WORDS.union([\"book\"])\n",
    "\n",
    "v = TfidfVectorizer(ngram_range = (1,1), stop_words=my_stop_words, max_features = 50)\n",
    "blurd_tfid = v.fit_transform(ks_train_df['blurb'])\n",
    "blurb_df_train = pd.DataFrame(blurd_tfid.toarray(), columns=v.get_feature_names())\n",
    "\n",
    "for column in ks_train_df:\n",
    "    for feature in blurb_df_train:\n",
    "        if(column == feature):\n",
    "            blurb_df_train.drop(feature, axis=1, inplace=True)\n",
    "\n",
    "ks_train_df = pd.concat([ks_train_df, blurb_df_train], axis=1)"
   ]
  },
  {
   "cell_type": "markdown",
   "metadata": {},
   "source": [
    "## Part 3.New Features"
   ]
  },
  {
   "cell_type": "markdown",
   "metadata": {},
   "source": [
    "### 1. First derived feature, duration of the project."
   ]
  },
  {
   "cell_type": "code",
   "execution_count": 23,
   "metadata": {
    "scrolled": true
   },
   "outputs": [
    {
     "data": {
      "text/plain": [
       "<seaborn.axisgrid.FacetGrid at 0x7f7c0ade0048>"
      ]
     },
     "execution_count": 23,
     "metadata": {},
     "output_type": "execute_result"
    },
    {
     "data": {
      "image/png": "[encoded data removed]",
      "text/plain": [
       "<Figure size 360x360 with 1 Axes>"
      ]
     },
     "metadata": {},
     "output_type": "display_data"
    }
   ],
   "source": [
    "# convert the days and show the plot\n",
    "from datetime import datetime\n",
    "ks_train_df.deadline = ks_train_df.deadline.astype(int)\n",
    "ks_train_df.launched_at = ks_train_df.launched_at.astype(int)\n",
    "time_used = (ks_train_df.deadline - ks_train_df.launched_at)\n",
    "\n",
    "duration = []\n",
    "\n",
    "for unix_time in time_used:\n",
    "    time = datetime.utcfromtimestamp(unix_time).strftime('%d')\n",
    "    duration.append(int(time))\n",
    "\n",
    "ks_train_df['duration'] = duration\n",
    "sns.displot(ks_train_df['duration'])"
   ]
  },
  {
   "cell_type": "markdown",
   "metadata": {},
   "source": [
    "- transform duration"
   ]
  },
  {
   "cell_type": "code",
   "execution_count": 24,
   "metadata": {},
   "outputs": [
    {
     "data": {
      "text/plain": [
       "count    8.800300e+04\n",
       "mean     9.398222e-17\n",
       "std      1.000000e+00\n",
       "min     -1.797128e+00\n",
       "25%     -9.065548e-01\n",
       "50%      5.183630e-01\n",
       "75%      8.745924e-01\n",
       "max      8.745924e-01\n",
       "Name: duration_norm, dtype: float64"
      ]
     },
     "execution_count": 24,
     "metadata": {},
     "output_type": "execute_result"
    }
   ],
   "source": [
    "duration_mean = ks_train_df['duration'].mean()\n",
    "duration_std = ks_train_df['duration'].std()\n",
    "ks_train_df['duration_norm'] = ks_train_df['duration'].apply(lambda x: (x - duration_mean)/duration_std)\n",
    "ks_train_df['duration_norm'].describe()"
   ]
  },
  {
   "cell_type": "markdown",
   "metadata": {},
   "source": [
    "- we can see from the following graph that 'duration_norm' is definetily related to the 'funded'"
   ]
  },
  {
   "cell_type": "code",
   "execution_count": 25,
   "metadata": {},
   "outputs": [
    {
     "data": {
      "text/plain": [
       "<AxesSubplot:>"
      ]
     },
     "execution_count": 25,
     "metadata": {},
     "output_type": "execute_result"
    },
    {
     "data": {
      "image/png": "[encoded data removed]",
      "text/plain": [
       "<Figure size 1152x576 with 2 Axes>"
      ]
     },
     "metadata": {},
     "output_type": "display_data"
    }
   ],
   "source": [
    "cols=['funded','duration_norm']\n",
    "corrmat=ks_train_df[cols].corr(method='pearson')\n",
    "sns.heatmap(corrmat,square=True, annot=True)"
   ]
  },
  {
   "cell_type": "markdown",
   "metadata": {},
   "source": [
    "### 2. Second derived feature: has high frequency words in blurb?"
   ]
  },
  {
   "cell_type": "markdown",
   "metadata": {},
   "source": [
    "- prepare the top words (will take few minutes)"
   ]
  },
  {
   "cell_type": "code",
   "execution_count": 26,
   "metadata": {},
   "outputs": [],
   "source": [
    "# part of speech, it is a noun or a verb or adj. or adv.\n",
    "def get_wordnet_pos(tag):\n",
    "    if tag.startswith('J'):\n",
    "        return wordnet.ADJ\n",
    "    elif tag.startswith('V'):\n",
    "        return wordnet.VERB\n",
    "    elif tag.startswith('N'):\n",
    "        return wordnet.NOUN\n",
    "    elif tag.startswith('R'):\n",
    "        return wordnet.ADV\n",
    "    else:\n",
    "        return None\n",
    "s = \"\"\n",
    "for words in ks_train_df.loc[ks_train_df['funded'] == 1,'blurb']:\n",
    "    s+=words \n",
    "tokens = nltk.word_tokenize(s)  # spilt the sentence\n",
    "tagged_sent = nltk.pos_tag(tokens)     # gain the part of speech of a word\n",
    "\n",
    "wnl = nltk.WordNetLemmatizer()\n",
    "lemmas_sent = []\n",
    "for tag in tagged_sent:\n",
    "    wordnet_pos = get_wordnet_pos(tag[1]) or wordnet.NOUN\n",
    "    lemmas_sent.append(wnl.lemmatize(tag[0], pos=wordnet_pos)) # Lemmatization"
   ]
  },
  {
   "cell_type": "code",
   "execution_count": 27,
   "metadata": {},
   "outputs": [],
   "source": [
    "all_stopwords = stopwords.words('english')\n",
    "all_stopwords.append('u')\n",
    "tokens_without_sw = [word for word in lemmas_sent if not word in all_stopwords] #giving the stopwords and delete it"
   ]
  },
  {
   "cell_type": "code",
   "execution_count": 28,
   "metadata": {},
   "outputs": [
    {
     "name": "stdout",
     "output_type": "stream",
     "text": [
      "[('new', 5025), ('book', 3650), ('help', 3634)]\n"
     ]
    }
   ],
   "source": [
    "tags = set(['NN','JJ','RB','VB']) #only noun,adj,adv,verb is needed\n",
    "pos_tag = nltk.pos_tag(tokens_without_sw)\n",
    "ret = []\n",
    "for word, pos in pos_tag:\n",
    "        if (pos in tags):\n",
    "            ret.append(word) #if it is a noun ...... then append it\n",
    "freq = nltk.FreqDist(ret)\n",
    "print(freq.most_common(3)) # the words with top 3  frequence in successful projects"
   ]
  },
  {
   "cell_type": "code",
   "execution_count": 29,
   "metadata": {},
   "outputs": [
    {
     "name": "stdout",
     "output_type": "stream",
     "text": [
      "['new', 'book', 'help']\n"
     ]
    }
   ],
   "source": [
    "#from dict to list\n",
    "sorted_freq = dict(sorted(freq.items(), key=lambda e: e[1],reverse= True))\n",
    "\n",
    "top_words = []\n",
    "cnt = 0 \n",
    "max_num = 3 # how many top words\n",
    "for key, value in sorted_freq.items():\n",
    "    cnt += 1\n",
    "    top_words.append(key)\n",
    "    if cnt > max_num-1:\n",
    "        break\n",
    "print(top_words)"
   ]
  },
  {
   "cell_type": "markdown",
   "metadata": {},
   "source": [
    "- transform and test if blurb has top words"
   ]
  },
  {
   "cell_type": "code",
   "execution_count": 30,
   "metadata": {},
   "outputs": [],
   "source": [
    "# transform the blurb\n",
    "lancaster_stem = LancasterStemmer()\n",
    "lower_case = ks_train_df['blurb'].apply(lambda x: x.lower())\n",
    "tokenized_blurb = lower_case.apply(nltk.word_tokenize)\n",
    "def lemmatize_text(text):\n",
    "    lemmatizer = WordNetLemmatizer()\n",
    "    return [lemmatizer.lemmatize(w) for w in text]\n",
    "ks_train_df['blurb_cleaned'] = tokenized_blurb.apply(lemmatize_text)"
   ]
  },
  {
   "cell_type": "code",
   "execution_count": 31,
   "metadata": {},
   "outputs": [],
   "source": [
    "ks_train_df['has_freq_words'] = ks_train_df['blurb_cleaned'].apply(\n",
    "     lambda t_list:int(any(word in t_list for word in top_words)))"
   ]
  },
  {
   "cell_type": "markdown",
   "metadata": {},
   "source": [
    "### 3. Third derived feature: Launch month."
   ]
  },
  {
   "cell_type": "code",
   "execution_count": 32,
   "metadata": {},
   "outputs": [
    {
     "data": {
      "text/plain": [
       "0         3\n",
       "1         3\n",
       "2         3\n",
       "3         3\n",
       "4         3\n",
       "         ..\n",
       "87998    11\n",
       "87999     4\n",
       "88000     6\n",
       "88001     7\n",
       "88002     5\n",
       "Name: launch_at_month, Length: 88003, dtype: int64"
      ]
     },
     "execution_count": 32,
     "metadata": {},
     "output_type": "execute_result"
    }
   ],
   "source": [
    "ks_train_df['launch_at_date'] = pd.to_datetime(ks_train_df['launched_at'],unit='s')\n",
    "ks_train_df['launch_at_month'] = ks_train_df['launch_at_date'].apply(lambda x : x.month)\n",
    "ks_train_df['launch_at_month']"
   ]
  },
  {
   "cell_type": "code",
   "execution_count": 33,
   "metadata": {},
   "outputs": [
    {
     "data": {
      "text/plain": [
       "<AxesSubplot:xlabel='launch_at_month', ylabel='Count'>"
      ]
     },
     "execution_count": 33,
     "metadata": {},
     "output_type": "execute_result"
    },
    {
     "data": {
      "image/png": "[encoded data removed]",
      "text/plain": [
       "<Figure size 1152x576 with 1 Axes>"
      ]
     },
     "metadata": {},
     "output_type": "display_data"
    }
   ],
   "source": [
    "# launch month \n",
    "sns.histplot(ks_train_df['launch_at_month'])\n",
    "\n",
    "# successful per month\n",
    "sns.histplot(ks_train_df.loc[ks_train_df['funded'] == 1,'launch_at_month'])"
   ]
  },
  {
   "cell_type": "code",
   "execution_count": 34,
   "metadata": {},
   "outputs": [
    {
     "data": {
      "text/plain": [
       "<AxesSubplot:xlabel='funded', ylabel='launch_at_month'>"
      ]
     },
     "execution_count": 34,
     "metadata": {},
     "output_type": "execute_result"
    },
    {
     "data": {
      "image/png": "[encoded data removed]",
      "text/plain": [
       "<Figure size 1152x576 with 1 Axes>"
      ]
     },
     "metadata": {},
     "output_type": "display_data"
    }
   ],
   "source": [
    "sns.boxplot(ks_train_df['funded'], ks_train_df.launch_at_month)"
   ]
  },
  {
   "cell_type": "markdown",
   "metadata": {},
   "source": [
    "## Part 3.5 Read and Transoform test data"
   ]
  },
  {
   "cell_type": "markdown",
   "metadata": {},
   "source": [
    "### 1. Preparation"
   ]
  },
  {
   "cell_type": "code",
   "execution_count": 35,
   "metadata": {},
   "outputs": [],
   "source": [
    "ks_test_df = pd.read_csv('KS_test_data.csv', delimiter=';')"
   ]
  },
  {
   "cell_type": "markdown",
   "metadata": {},
   "source": [
    "- transform data"
   ]
  },
  {
   "cell_type": "code",
   "execution_count": 36,
   "metadata": {},
   "outputs": [],
   "source": [
    "#usd_goal_strd\n",
    "ks_test_df['usd_goal'] = ks_test_df['goal'] * ks_test_df.fx_rate\n",
    "scaler = StandardScaler()\n",
    "ks_test_df['usd_goal_strd'] = scaler.fit_transform(ks_test_df[['usd_goal']])"
   ]
  },
  {
   "cell_type": "code",
   "execution_count": 37,
   "metadata": {},
   "outputs": [],
   "source": [
    "#subcategory\n",
    "subcategory_transformed_test = pd.get_dummies(ks_test_df.subcategory)\n",
    "ks_test_df = pd.concat([ks_test_df, subcategory_transformed_test], axis=1)"
   ]
  },
  {
   "cell_type": "code",
   "execution_count": 38,
   "metadata": {},
   "outputs": [],
   "source": [
    "#category\n",
    "category_transformed_test = pd.get_dummies(ks_test_df.category)\n",
    "\n",
    "for category in category_transformed_test.columns:\n",
    "    for subcategory in subcategory_transformed_test.columns:\n",
    "        if(subcategory == category):\n",
    "            category_transformed_test.drop(category, axis=1, inplace=True)\n",
    "\n",
    "ks_test_df = pd.concat([ks_test_df, category_transformed_test], axis=1)"
   ]
  },
  {
   "cell_type": "code",
   "execution_count": 39,
   "metadata": {},
   "outputs": [],
   "source": [
    "#currency\n",
    "currency_transformed_test = pd.get_dummies(ks_test_df.currency)\n",
    "ks_test_df = pd.concat([ks_test_df, currency_transformed_test], axis=1)    "
   ]
  },
  {
   "cell_type": "code",
   "execution_count": 40,
   "metadata": {},
   "outputs": [],
   "source": [
    "#blurb\n",
    "from sklearn.feature_extraction import text\n",
    "my_stop_words = text.ENGLISH_STOP_WORDS.union([\"book\"])\n",
    "\n",
    "v = TfidfVectorizer(ngram_range = (1,1), stop_words=my_stop_words, max_features = 50)\n",
    "blurd_tfid = v.fit_transform(ks_test_df['blurb'].values.astype('U'))\n",
    "blurb_df_test = pd.DataFrame(blurd_tfid.toarray(), columns=v.get_feature_names())\n",
    "\n",
    "for column in ks_test_df:\n",
    "    for feature in blurb_df_test:\n",
    "        if(column == feature):\n",
    "            blurb_df_test.drop(feature, axis=1, inplace=True)\n",
    "\n",
    "ks_test_df = pd.concat([ks_test_df, blurb_df_test], axis=1)"
   ]
  },
  {
   "cell_type": "code",
   "execution_count": 41,
   "metadata": {},
   "outputs": [],
   "source": [
    "#name\n",
    "v = TfidfVectorizer(ngram_range = (1,1), stop_words=my_stop_words, max_features = 30)\n",
    "name_tfid = v.fit_transform(ks_test_df['name'].values.astype('U'))\n",
    "name_df_test = pd.DataFrame(name_tfid.toarray(), columns=v.get_feature_names())\n",
    "\n",
    "for column in ks_test_df:\n",
    "    for name in name_df_test:\n",
    "        if(column == name):\n",
    "            name_df_test.drop(name, axis=1, inplace=True)\n",
    "\n",
    "ks_test_df = pd.concat([ks_test_df, name_df_test], axis=1)"
   ]
  },
  {
   "cell_type": "code",
   "execution_count": 42,
   "metadata": {},
   "outputs": [],
   "source": [
    "# test set use only (generated) columns that are in train set\n",
    "def filter_tained_columns(train_columns_name, test_column_name, columns_df):\n",
    "    for test_column in test_column_name:\n",
    "        column_present = False\n",
    "        for train_column in train_columns_name:\n",
    "            if(train_column == test_column):\n",
    "                column_present = True\n",
    "        if(column_present == False):\n",
    "            columns_df.drop(test_column, axis = 1, inplace=True)\n",
    "\n",
    "filter_tained_columns(category_transformed_train.columns, category_transformed_test.columns, category_transformed_test)\n",
    "filter_tained_columns(subcategory_transformed_train.columns, subcategory_transformed_test.columns, subcategory_transformed_test)\n",
    "filter_tained_columns(currency_transformed_train.columns, currency_transformed_test.columns, currency_transformed_test)\n",
    "filter_tained_columns(blurb_df_train.columns, blurb_df_test.columns, blurb_df_test)\n",
    "filter_tained_columns(name_df_train.columns, name_df_test.columns, name_df_test)\n",
    "\n"
   ]
  },
  {
   "cell_type": "code",
   "execution_count": 43,
   "metadata": {},
   "outputs": [],
   "source": [
    "#launch month\n",
    "ks_test_df['launch_at_date'] = pd.to_datetime(ks_test_df['launched_at'],unit='s')\n",
    "ks_test_df['launch_at_month'] = ks_test_df['launch_at_date'].apply(lambda x : x.month)"
   ]
  },
  {
   "cell_type": "code",
   "execution_count": 44,
   "metadata": {},
   "outputs": [],
   "source": [
    "#has high frequency words\n",
    "ks_test_df['blurb'] = ks_test_df['blurb'].fillna(value = 'none')\n",
    "\n",
    "lancaster_stem = LancasterStemmer()\n",
    "lower_case = ks_test_df['blurb'].apply(lambda x: x.lower())\n",
    "tokenized_blurb = lower_case.apply(nltk.word_tokenize)\n",
    "\n",
    "ks_test_df['blurb_cleaned'] = tokenized_blurb.apply(lemmatize_text)\n",
    "ks_test_df['has_freq_words'] = ks_test_df['blurb_cleaned'].apply(\n",
    "     lambda t_list:int(any(word in t_list for word in top_words)))"
   ]
  },
  {
   "cell_type": "code",
   "execution_count": 45,
   "metadata": {},
   "outputs": [],
   "source": [
    "#duration_norm\n",
    "ks_test_df.deadline = ks_test_df.deadline.astype(int)\n",
    "ks_test_df.launched_at = ks_test_df.launched_at.astype(int)\n",
    "time_used = (ks_test_df.deadline - ks_test_df.launched_at)\n",
    "duration = []\n",
    "for unix_time in time_used:\n",
    "    time = datetime.utcfromtimestamp(unix_time).strftime('%d')\n",
    "    duration.append(int(time))\n",
    "ks_test_df['duration'] = duration\n",
    "duration_mean = ks_test_df['duration'].mean()\n",
    "duration_std = ks_test_df['duration'].std()\n",
    "ks_test_df['duration_norm'] = ks_test_df['duration'].apply(lambda x: (x - duration_mean)/duration_std)\n"
   ]
  },
  {
   "cell_type": "markdown",
   "metadata": {},
   "source": [
    "## Part 4. Machine Learning"
   ]
  },
  {
   "cell_type": "markdown",
   "metadata": {},
   "source": [
    "### First, make our trainning data set"
   ]
  },
  {
   "cell_type": "code",
   "execution_count": 46,
   "metadata": {},
   "outputs": [],
   "source": [
    "# all_features = ['duration_norm', 'usd_goal_strd', 'staff_pick', 'has_freq_words' ,'launch_at_month'] + list(category_transformed_train.columns) +  list(currency_transformed_train.columns) +  list(subcategory_transformed_train.columns) + list(name_df_train.columns) + list(blurb_df_train.columns)\n",
    "all_features = ['duration_norm', 'usd_goal_strd', 'staff_pick', 'has_freq_words', 'launch_at_month'] + list(category_transformed_test.columns) +  list(currency_transformed_test.columns) +  list(subcategory_transformed_test.columns) + list(name_df_test.columns) + list(blurb_df_test.columns)\n",
    "\n",
    "X_kick = ks_train_df[all_features]\n",
    "y_kick = ks_train_df.funded"
   ]
  },
  {
   "cell_type": "markdown",
   "metadata": {},
   "source": [
    "### Model 1 : Nerual Network"
   ]
  },
  {
   "cell_type": "markdown",
   "metadata": {},
   "source": [
    "- implement GridSearch (super slow)"
   ]
  },
  {
   "cell_type": "code",
   "execution_count": 47,
   "metadata": {},
   "outputs": [],
   "source": [
    "#estimator = MLPClassifier()\n",
    "#param_grid={\n",
    "#    'hidden_layer_sizes': [(10,30,10),(20,)],\n",
    "#    'activation': ['tanh'],\n",
    "#    'solver': ['adam'],\n",
    "#    'alpha': [0.0001, 0.05],\n",
    "#    'learning_rate': ['constant','adaptive'],\n",
    "#}\n",
    "#gs = GridSearchCV(estimator,param_grid)\n",
    "#gs.fit(X_kick,y_kick)"
   ]
  },
  {
   "cell_type": "markdown",
   "metadata": {},
   "source": [
    "- cross validation"
   ]
  },
  {
   "cell_type": "code",
   "execution_count": 48,
   "metadata": {},
   "outputs": [],
   "source": [
    "# cross-validation\n",
    "#model = gs.best_estimator_\n",
    "#cross_vals = cross_val_score(model,X_kick,y_kick,cv = 5)\n",
    "#print('the accuracy is ', cross_vals.mean())"
   ]
  },
  {
   "cell_type": "code",
   "execution_count": 49,
   "metadata": {},
   "outputs": [
    {
     "name": "stdout",
     "output_type": "stream",
     "text": [
      "the accuracy is  0.6305011852182587\n"
     ]
    }
   ],
   "source": [
    "# cross-validation\n",
    "model1 = MLPClassifier()\n",
    "cross_vals = cross_val_score(model1,X_kick,y_kick,cv =2)\n",
    "print('the accuracy is ', cross_vals.mean())"
   ]
  },
  {
   "cell_type": "markdown",
   "metadata": {},
   "source": [
    "### Model 2: LogisticRegression"
   ]
  },
  {
   "cell_type": "code",
   "execution_count": 50,
   "metadata": {},
   "outputs": [
    {
     "name": "stdout",
     "output_type": "stream",
     "text": [
      "{'C': 0.01, 'penalty': 'l2'}\n",
      "0.6725231785642344\n"
     ]
    }
   ],
   "source": [
    "from sklearn.linear_model import LogisticRegression\n",
    "grid={\"C\":np.logspace(-3,3,7), \"penalty\":[\"l1\",\"l2\"]}\n",
    "model=LogisticRegression()\n",
    "cv=GridSearchCV(model,grid,cv=5)\n",
    "cv.fit(X_kick,y_kick)\n",
    "\n",
    "print(cv.best_params_)\n",
    "print(cv.best_score_)"
   ]
  },
  {
   "cell_type": "code",
   "execution_count": 51,
   "metadata": {},
   "outputs": [
    {
     "name": "stdout",
     "output_type": "stream",
     "text": [
      "the accuracy is  0.6725231785642344\n"
     ]
    }
   ],
   "source": [
    "cross_vals = cross_val_score(cv,X_kick,y_kick,cv = 5)\n",
    "print('the accuracy is ', cross_vals.mean())"
   ]
  },
  {
   "cell_type": "markdown",
   "metadata": {},
   "source": [
    "## Part 5 Predict"
   ]
  },
  {
   "cell_type": "markdown",
   "metadata": {},
   "source": [
    "- predict"
   ]
  },
  {
   "cell_type": "code",
   "execution_count": 52,
   "metadata": {},
   "outputs": [
    {
     "name": "stdout",
     "output_type": "stream",
     "text": [
      "[[0.31542572 0.68457428]\n",
      " [0.47826644 0.52173356]\n",
      " [0.45780785 0.54219215]\n",
      " ...\n",
      " [0.08076362 0.91923638]\n",
      " [0.42060955 0.57939045]\n",
      " [0.39837292 0.60162708]]\n",
      "[[0.31542572 0.68457428]\n",
      " [0.47826644 0.52173356]\n",
      " [0.45780785 0.54219215]\n",
      " ...\n",
      " [0.08076362 0.91923638]\n",
      " [0.42060955 0.57939045]\n",
      " [0.39837292 0.60162708]]\n"
     ]
    }
   ],
   "source": [
    "all_features = ['duration_norm', 'usd_goal_strd', 'staff_pick', 'has_freq_words', 'launch_at_month'] + list(category_transformed_test.columns) +  list(currency_transformed_test.columns) +  list(subcategory_transformed_test.columns) + list(name_df_test.columns) + list(blurb_df_test.columns)\n",
    "\n",
    "cv.fit(X_kick,y_kick)\n",
    "\n",
    "result_probality_1 = cv.predict_proba(ks_test_df[all_features])\n",
    "result_probality_2 = cv.predict_proba(ks_test_df[all_features])\n",
    "\n",
    "print(result_probality_1)\n",
    "print(result_probality_2)"
   ]
  },
  {
   "cell_type": "code",
   "execution_count": 67,
   "metadata": {},
   "outputs": [],
   "source": [
    "funded_prob_1=[]\n",
    "funded_prob_2=[]\n",
    "for prob1 in result_probality_1:\n",
    "    funded_prob_1.append(prob1[1])\n",
    "for prob2 in result_probality_2:\n",
    "    funded_prob_2.append(prob2[1])\n",
    "\n",
    "ks_test_df['prediction'] = (np.array(funded_prob_1) + np.array(funded_prob_2)) / 2\n",
    "ks_test_df.to_csv('predictions.tsv', index = False,columns=['project_id','prediction'])"
   ]
  },
  {
   "cell_type": "code",
   "execution_count": 72,
   "metadata": {},
   "outputs": [
    {
     "name": "stdout",
     "output_type": "stream",
     "text": [
      "number of estimate correct predictions :  52500.521934616954\n"
     ]
    }
   ],
   "source": [
    "# estimate correct predictions\n",
    "correct_predictions = cross_vals.mean() * 78065\n",
    "print('number of estimate correct predictions : ', correct_predictions)"
   ]
  },
  {
   "cell_type": "code",
   "execution_count": null,
   "metadata": {},
   "outputs": [],
   "source": []
  }
 ],
 "metadata": {
  "kernelspec": {
   "display_name": "base",
   "language": "python",
   "name": "python3"
  },
  "language_info": {
   "codemirror_mode": {
    "name": "ipython",
    "version": 3
   },
   "file_extension": ".py",
   "mimetype": "text/x-python",
   "name": "python",
   "nbconvert_exporter": "python",
   "pygments_lexer": "ipython3",
   "version": "3.7.6 (default, Jan  8 2020, 20:23:39) [MSC v.1916 64 bit (AMD64)]"
  },
  "vscode": {
   "interpreter": {
    "hash": "c8bb994dbad06e511f9407a8423693198edcf30202602d6998576e0fea7ad433"
   }
  }
 },
 "nbformat": 4,
 "nbformat_minor": 4
}
